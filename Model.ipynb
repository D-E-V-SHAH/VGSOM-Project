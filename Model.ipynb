{
 "cells": [
  {
   "cell_type": "markdown",
   "id": "da8399a6",
   "metadata": {},
   "source": [
    "# Importing required libraries"
   ]
  },
  {
   "cell_type": "code",
   "execution_count": 1,
   "id": "ae3b92a4",
   "metadata": {},
   "outputs": [],
   "source": [
    "import pandas as pd\n",
    "import numpy as np\n",
    "import matplotlib.pyplot as plt\n",
    "plt.style.use('default')\n",
    "\n",
    "from tensorflow.keras.models import Sequential\n",
    "from tensorflow.keras.layers import *\n",
    "from tensorflow.keras.callbacks import ModelCheckpoint\n",
    "from tensorflow.keras.losses import MeanSquaredError\n",
    "from tensorflow.keras.metrics import RootMeanSquaredError\n",
    "from tensorflow.keras.optimizers import Adam"
   ]
  },
  {
   "cell_type": "code",
   "execution_count": 2,
   "id": "5c62e412",
   "metadata": {},
   "outputs": [
    {
     "data": {
      "text/html": [
       "<div>\n",
       "<style scoped>\n",
       "    .dataframe tbody tr th:only-of-type {\n",
       "        vertical-align: middle;\n",
       "    }\n",
       "\n",
       "    .dataframe tbody tr th {\n",
       "        vertical-align: top;\n",
       "    }\n",
       "\n",
       "    .dataframe thead th {\n",
       "        text-align: right;\n",
       "    }\n",
       "</style>\n",
       "<table border=\"1\" class=\"dataframe\">\n",
       "  <thead>\n",
       "    <tr style=\"text-align: right;\">\n",
       "      <th></th>\n",
       "      <th>Predicted</th>\n",
       "      <th>Actual</th>\n",
       "    </tr>\n",
       "    <tr>\n",
       "      <th>Timestamp</th>\n",
       "      <th></th>\n",
       "      <th></th>\n",
       "    </tr>\n",
       "  </thead>\n",
       "  <tbody>\n",
       "    <tr>\n",
       "      <th>2018-09-13 16:00:00</th>\n",
       "      <td>1.1836</td>\n",
       "      <td>0.3</td>\n",
       "    </tr>\n",
       "    <tr>\n",
       "      <th>2018-09-13 17:00:00</th>\n",
       "      <td>0.8725</td>\n",
       "      <td>2.7</td>\n",
       "    </tr>\n",
       "    <tr>\n",
       "      <th>2018-09-13 18:00:00</th>\n",
       "      <td>0.8762</td>\n",
       "      <td>3.2</td>\n",
       "    </tr>\n",
       "    <tr>\n",
       "      <th>2018-09-13 19:00:00</th>\n",
       "      <td>1.0171</td>\n",
       "      <td>1.9</td>\n",
       "    </tr>\n",
       "    <tr>\n",
       "      <th>2018-09-13 20:00:00</th>\n",
       "      <td>1.4492</td>\n",
       "      <td>3.5</td>\n",
       "    </tr>\n",
       "    <tr>\n",
       "      <th>...</th>\n",
       "      <td>...</td>\n",
       "      <td>...</td>\n",
       "    </tr>\n",
       "    <tr>\n",
       "      <th>2018-12-31 19:00:00</th>\n",
       "      <td>5.5130</td>\n",
       "      <td>8.8</td>\n",
       "    </tr>\n",
       "    <tr>\n",
       "      <th>2018-12-31 20:00:00</th>\n",
       "      <td>5.7150</td>\n",
       "      <td>8.1</td>\n",
       "    </tr>\n",
       "    <tr>\n",
       "      <th>2018-12-31 21:00:00</th>\n",
       "      <td>5.9370</td>\n",
       "      <td>8.9</td>\n",
       "    </tr>\n",
       "    <tr>\n",
       "      <th>2018-12-31 22:00:00</th>\n",
       "      <td>6.6360</td>\n",
       "      <td>7.4</td>\n",
       "    </tr>\n",
       "    <tr>\n",
       "      <th>2018-12-31 23:00:00</th>\n",
       "      <td>6.2230</td>\n",
       "      <td>7.9</td>\n",
       "    </tr>\n",
       "  </tbody>\n",
       "</table>\n",
       "<p>2620 rows × 2 columns</p>\n",
       "</div>"
      ],
      "text/plain": [
       "                     Predicted  Actual\n",
       "Timestamp                             \n",
       "2018-09-13 16:00:00     1.1836     0.3\n",
       "2018-09-13 17:00:00     0.8725     2.7\n",
       "2018-09-13 18:00:00     0.8762     3.2\n",
       "2018-09-13 19:00:00     1.0171     1.9\n",
       "2018-09-13 20:00:00     1.4492     3.5\n",
       "...                        ...     ...\n",
       "2018-12-31 19:00:00     5.5130     8.8\n",
       "2018-12-31 20:00:00     5.7150     8.1\n",
       "2018-12-31 21:00:00     5.9370     8.9\n",
       "2018-12-31 22:00:00     6.6360     7.4\n",
       "2018-12-31 23:00:00     6.2230     7.9\n",
       "\n",
       "[2620 rows x 2 columns]"
      ]
     },
     "execution_count": 2,
     "metadata": {},
     "output_type": "execute_result"
    }
   ],
   "source": [
    "data = pd.read_csv('Data to Plot.csv')                           # importing data from data_handling file\n",
    "data.set_index(data['Timestamp'], inplace = True)\n",
    "data.drop(['Timestamp', 'Timestamp.1'], axis = 1, inplace=True)  \n",
    "data.rename(columns = {'Value':'Predicted', 'pm2.5':'Actual'}, inplace = True)  # renaming columns to predicted and actual\n",
    "data"
   ]
  },
  {
   "cell_type": "code",
   "execution_count": 15,
   "id": "5f21dbd5",
   "metadata": {},
   "outputs": [
    {
     "data": {
      "text/html": [
       "<div>\n",
       "<style scoped>\n",
       "    .dataframe tbody tr th:only-of-type {\n",
       "        vertical-align: middle;\n",
       "    }\n",
       "\n",
       "    .dataframe tbody tr th {\n",
       "        vertical-align: top;\n",
       "    }\n",
       "\n",
       "    .dataframe thead th {\n",
       "        text-align: right;\n",
       "    }\n",
       "</style>\n",
       "<table border=\"1\" class=\"dataframe\">\n",
       "  <thead>\n",
       "    <tr style=\"text-align: right;\">\n",
       "      <th></th>\n",
       "      <th>Predicted</th>\n",
       "      <th>Actual</th>\n",
       "    </tr>\n",
       "    <tr>\n",
       "      <th>Timestamp</th>\n",
       "      <th></th>\n",
       "      <th></th>\n",
       "    </tr>\n",
       "  </thead>\n",
       "  <tbody>\n",
       "    <tr>\n",
       "      <th>2018-09-13 16:00:00</th>\n",
       "      <td>1.1836</td>\n",
       "      <td>0.3</td>\n",
       "    </tr>\n",
       "    <tr>\n",
       "      <th>2018-09-13 17:00:00</th>\n",
       "      <td>0.8725</td>\n",
       "      <td>2.7</td>\n",
       "    </tr>\n",
       "    <tr>\n",
       "      <th>2018-09-13 18:00:00</th>\n",
       "      <td>0.8762</td>\n",
       "      <td>3.2</td>\n",
       "    </tr>\n",
       "    <tr>\n",
       "      <th>2018-09-13 19:00:00</th>\n",
       "      <td>1.0171</td>\n",
       "      <td>1.9</td>\n",
       "    </tr>\n",
       "    <tr>\n",
       "      <th>2018-09-13 20:00:00</th>\n",
       "      <td>1.4492</td>\n",
       "      <td>3.5</td>\n",
       "    </tr>\n",
       "    <tr>\n",
       "      <th>...</th>\n",
       "      <td>...</td>\n",
       "      <td>...</td>\n",
       "    </tr>\n",
       "    <tr>\n",
       "      <th>2018-12-31 19:00:00</th>\n",
       "      <td>5.5130</td>\n",
       "      <td>8.8</td>\n",
       "    </tr>\n",
       "    <tr>\n",
       "      <th>2018-12-31 20:00:00</th>\n",
       "      <td>5.7150</td>\n",
       "      <td>8.1</td>\n",
       "    </tr>\n",
       "    <tr>\n",
       "      <th>2018-12-31 21:00:00</th>\n",
       "      <td>5.9370</td>\n",
       "      <td>8.9</td>\n",
       "    </tr>\n",
       "    <tr>\n",
       "      <th>2018-12-31 22:00:00</th>\n",
       "      <td>6.6360</td>\n",
       "      <td>7.4</td>\n",
       "    </tr>\n",
       "    <tr>\n",
       "      <th>2018-12-31 23:00:00</th>\n",
       "      <td>6.2230</td>\n",
       "      <td>7.9</td>\n",
       "    </tr>\n",
       "  </tbody>\n",
       "</table>\n",
       "<p>2618 rows × 2 columns</p>\n",
       "</div>"
      ],
      "text/plain": [
       "                     Predicted  Actual\n",
       "Timestamp                             \n",
       "2018-09-13 16:00:00     1.1836     0.3\n",
       "2018-09-13 17:00:00     0.8725     2.7\n",
       "2018-09-13 18:00:00     0.8762     3.2\n",
       "2018-09-13 19:00:00     1.0171     1.9\n",
       "2018-09-13 20:00:00     1.4492     3.5\n",
       "...                        ...     ...\n",
       "2018-12-31 19:00:00     5.5130     8.8\n",
       "2018-12-31 20:00:00     5.7150     8.1\n",
       "2018-12-31 21:00:00     5.9370     8.9\n",
       "2018-12-31 22:00:00     6.6360     7.4\n",
       "2018-12-31 23:00:00     6.2230     7.9\n",
       "\n",
       "[2618 rows x 2 columns]"
      ]
     },
     "execution_count": 15,
     "metadata": {},
     "output_type": "execute_result"
    }
   ],
   "source": [
    "index = data[data.isna().Actual == True].index\n",
    "data.drop(index,axis=0,inplace=True)\n",
    "data"
   ]
  },
  {
   "cell_type": "markdown",
   "id": "c70638ad",
   "metadata": {},
   "source": [
    "# Defining model"
   ]
  },
  {
   "cell_type": "code",
   "execution_count": 16,
   "id": "e8c70eee",
   "metadata": {},
   "outputs": [],
   "source": [
    "# setting window_size to the optimum value\n",
    "window_size = 160  "
   ]
  },
  {
   "cell_type": "markdown",
   "id": "2c47a628",
   "metadata": {},
   "source": [
    "# Creating Dataset for applying LSTM model"
   ]
  },
  {
   "cell_type": "code",
   "execution_count": 17,
   "id": "eaeeb7d4",
   "metadata": {},
   "outputs": [
    {
     "name": "stdout",
     "output_type": "stream",
     "text": [
      "(2457, 160, 1) (2457,)\n"
     ]
    }
   ],
   "source": [
    "# creating data for the model\n",
    "x = data['Predicted'].iloc[:window_size]    \n",
    "x = x.to_numpy()\n",
    "X = []                      # X contains the first window_size values from Predicted and next value from Actual. Then we concatenate the value to Predicted and take next value from Actual\n",
    "y = []\n",
    "for i in range((len(data) - window_size - 1)):\n",
    "    row = [[a] for a in x[i:i+window_size]]\n",
    "    X.append(row)\n",
    "    x = np.concatenate((x, [data['Actual'][i + window_size + 1]]))\n",
    "    y.append(x[-1])\n",
    "y = np.array(y)\n",
    "X = np.array(X)\n",
    "print(X.shape, y.shape)"
   ]
  },
  {
   "cell_type": "markdown",
   "id": "d8b4ff76",
   "metadata": {},
   "source": [
    "# Separating data into Train, Cross-validation and Test"
   ]
  },
  {
   "cell_type": "code",
   "execution_count": 18,
   "id": "ee7ead09",
   "metadata": {},
   "outputs": [],
   "source": [
    "Train_X = X[:1500]\n",
    "Train_y = y[:1500]\n",
    "Val_X = X[1500:2000]\n",
    "Val_y = y[1500:2000]\n",
    "Test_X = X[2000:]\n",
    "Test_y = y[2000:]"
   ]
  },
  {
   "cell_type": "markdown",
   "id": "62dcaa54",
   "metadata": {},
   "source": [
    "# Model"
   ]
  },
  {
   "cell_type": "code",
   "execution_count": 19,
   "id": "8973b1eb",
   "metadata": {},
   "outputs": [
    {
     "name": "stdout",
     "output_type": "stream",
     "text": [
      "Model: \"sequential_1\"\n",
      "_________________________________________________________________\n",
      " Layer (type)                Output Shape              Param #   \n",
      "=================================================================\n",
      " lstm_1 (LSTM)               (None, 624)               1562496   \n",
      "                                                                 \n",
      " dense_2 (Dense)             (None, 16)                10000     \n",
      "                                                                 \n",
      " dense_3 (Dense)             (None, 1)                 17        \n",
      "                                                                 \n",
      "=================================================================\n",
      "Total params: 1,572,513\n",
      "Trainable params: 1,572,513\n",
      "Non-trainable params: 0\n",
      "_________________________________________________________________\n"
     ]
    }
   ],
   "source": [
    "model1 = Sequential()\n",
    "model1.add(InputLayer((window_size, 1)))\n",
    "model1.add(LSTM(624))\n",
    "model1.add(Dense(16, activation='relu'))\n",
    "model1.add(Dense(1, activation='linear'))\n",
    "\n",
    "model1.summary()"
   ]
  },
  {
   "cell_type": "markdown",
   "id": "63369501",
   "metadata": {},
   "source": [
    "# Determining minimum error on hyperparameters (Hyperparameter Tuning)"
   ]
  },
  {
   "cell_type": "code",
   "execution_count": 20,
   "id": "525c5ac3",
   "metadata": {},
   "outputs": [],
   "source": [
    "# Using 2 for loops to determine the optimal value of window size and LSTM model units required. Using Errors list to find the errors and the minimum of them will be one with optimal values.\n",
    "\n",
    "# optimal_window_size = 5 \n",
    "# optimal_units = 128\n",
    "# min_error = 1000000\n",
    "# errors = []\n",
    "# for window_size in range(150, 180, 5):\n",
    "#     errors_ =[] \n",
    "#     for units_ in range(600, 648, 8):\n",
    "#         x = data['Predicted'].iloc[:window_size]\n",
    "#         x = x.to_numpy()\n",
    "#         X = []\n",
    "#         y = []\n",
    "#         for i in range((len(data) - window_size - 1)):\n",
    "#             row = [[a] for a in x[i:i+window_size]]\n",
    "#             X.append(row)\n",
    "#             x = np.concatenate((x, [data['Actual'][i + window_size + 1]]))\n",
    "#             y.append(x[-1])\n",
    "#         y = np.array(y)\n",
    "#         X = np.array(X)\n",
    "#         print(X.shape, y.shape)\n",
    "\n",
    "#         Train_X = X[:1500]\n",
    "#         Train_y = y[:1500]\n",
    "#         Val_X = X[1500:2000]\n",
    "#         Val_y = y[1500:2000]\n",
    "#         Test_X = X[2000:]\n",
    "#         Test_y = y[2000:]\n",
    "\n",
    "#         model1 = Sequential()\n",
    "#         model1.add(InputLayer((window_size, 1)))\n",
    "#         model1.add(LSTM(units_))\n",
    "#         model1.add(Dense(16, activation='relu'))\n",
    "#         model1.add(Dense(1, activation='linear'))\n",
    "\n",
    "#         model1.summary()\n",
    "\n",
    "#         model1.compile(loss=MeanSquaredError(), optimizer=Adam(0.01), metrics=[RootMeanSquaredError()])\n",
    "\n",
    "#         model1.fit(Train_X, Train_y, validation_data = (Val_X, Val_y), epochs = 10)\n",
    "        \n",
    "#         train_predictions = model1.predict(X).flatten()\n",
    "#         train_results = pd.DataFrame(data={'Train Predictions':train_predictions, 'Actuals':y})\n",
    "#         train_results['Train Predictions'] = train_results['Train Predictions'].shift(periods = -1)\n",
    "#         error = 0\n",
    "#         for i in range(len(train_results) - 2):\n",
    "#             error += (train_results['Train Predictions'][i] - train_results['Actuals'][i]) ** 2\n",
    "#         if error < min_error:\n",
    "#             optimal_window_size = window_size\n",
    "#             optimal_units = units_\n",
    "#             min_error = error\n",
    "#         errors_.append(error)\n",
    "#     errors.append(errors_)"
   ]
  },
  {
   "cell_type": "code",
   "execution_count": 21,
   "id": "8e3a11e1",
   "metadata": {},
   "outputs": [],
   "source": [
    "model1.compile(loss=MeanSquaredError(), optimizer=Adam(0.001), metrics=[RootMeanSquaredError()])"
   ]
  },
  {
   "cell_type": "code",
   "execution_count": 22,
   "id": "0f2056e2",
   "metadata": {},
   "outputs": [
    {
     "name": "stdout",
     "output_type": "stream",
     "text": [
      "Epoch 1/10\n",
      "47/47 [==============================] - 53s 1s/step - loss: 85.7976 - root_mean_squared_error: 9.2627 - val_loss: 26.7624 - val_root_mean_squared_error: 5.1732\n",
      "Epoch 2/10\n",
      "47/47 [==============================] - 52s 1s/step - loss: 31.8980 - root_mean_squared_error: 5.6478 - val_loss: 17.0916 - val_root_mean_squared_error: 4.1342\n",
      "Epoch 3/10\n",
      "47/47 [==============================] - 53s 1s/step - loss: 22.2030 - root_mean_squared_error: 4.7120 - val_loss: 17.8756 - val_root_mean_squared_error: 4.2280\n",
      "Epoch 4/10\n",
      "47/47 [==============================] - 53s 1s/step - loss: 18.6092 - root_mean_squared_error: 4.3138 - val_loss: 17.4529 - val_root_mean_squared_error: 4.1777\n",
      "Epoch 5/10\n",
      "47/47 [==============================] - 53s 1s/step - loss: 14.9038 - root_mean_squared_error: 3.8605 - val_loss: 16.9229 - val_root_mean_squared_error: 4.1137\n",
      "Epoch 6/10\n",
      "47/47 [==============================] - 53s 1s/step - loss: 12.8484 - root_mean_squared_error: 3.5845 - val_loss: 17.1264 - val_root_mean_squared_error: 4.1384\n",
      "Epoch 7/10\n",
      "47/47 [==============================] - 53s 1s/step - loss: 10.9958 - root_mean_squared_error: 3.3160 - val_loss: 20.3127 - val_root_mean_squared_error: 4.5070\n",
      "Epoch 8/10\n",
      "47/47 [==============================] - 53s 1s/step - loss: 10.2148 - root_mean_squared_error: 3.1961 - val_loss: 19.1780 - val_root_mean_squared_error: 4.3793\n",
      "Epoch 9/10\n",
      "47/47 [==============================] - 53s 1s/step - loss: 9.8998 - root_mean_squared_error: 3.1464 - val_loss: 20.8470 - val_root_mean_squared_error: 4.5658\n",
      "Epoch 10/10\n",
      "47/47 [==============================] - 53s 1s/step - loss: 9.4708 - root_mean_squared_error: 3.0775 - val_loss: 20.5474 - val_root_mean_squared_error: 4.5329\n"
     ]
    },
    {
     "data": {
      "text/plain": [
       "<keras.callbacks.History at 0x233a601ffa0>"
      ]
     },
     "execution_count": 22,
     "metadata": {},
     "output_type": "execute_result"
    }
   ],
   "source": [
    "model1.fit(Train_X, Train_y, validation_data = (Val_X, Val_y), epochs = 10)"
   ]
  },
  {
   "cell_type": "code",
   "execution_count": 23,
   "id": "a642a9f7",
   "metadata": {},
   "outputs": [
    {
     "name": "stdout",
     "output_type": "stream",
     "text": [
      "77/77 [==============================] - 31s 398ms/step\n"
     ]
    }
   ],
   "source": [
    "train_predictions = model1.predict(X).flatten()\n",
    "train_results = pd.DataFrame(data={'Train Predictions':train_predictions, 'Actuals':y})\n",
    "train_results.to_csv('train_predictions.csv')"
   ]
  },
  {
   "cell_type": "markdown",
   "id": "7873c89c",
   "metadata": {},
   "source": [
    "# Evaluating error"
   ]
  },
  {
   "cell_type": "code",
   "execution_count": 24,
   "id": "536f774e",
   "metadata": {},
   "outputs": [],
   "source": [
    "from math import sqrt\n",
    "mse_error = 0\n",
    "avg_error = 0\n",
    "for i in range(len(train_results) - len(Test_X), len(train_results) - 2):\n",
    "    mse_error += (train_results['Train Predictions'][i+1] - train_results['Actuals'][i]) ** 2\n",
    "    avg_error += sqrt((train_results['Train Predictions'][i+1] - train_results['Actuals'][i]) ** 2)\n",
    "mse_error /= len(Test_X)\n",
    "avg_error /= len(Test_X)"
   ]
  },
  {
   "cell_type": "code",
   "execution_count": 25,
   "id": "e6775728",
   "metadata": {},
   "outputs": [
    {
     "name": "stdout",
     "output_type": "stream",
     "text": [
      "Mean Squared error on Test set is 0.6378786073048666\n",
      "Average error on Test set is 0.596192701744563\n"
     ]
    }
   ],
   "source": [
    "print(f\"Mean Squared error on Test set is {mse_error}\")\n",
    "print(f\"Average error on Test set is {avg_error}\")"
   ]
  },
  {
   "cell_type": "code",
   "execution_count": null,
   "id": "4faf7170",
   "metadata": {},
   "outputs": [],
   "source": []
  }
 ],
 "metadata": {
  "kernelspec": {
   "display_name": "Python 3 (ipykernel)",
   "language": "python",
   "name": "python3"
  },
  "language_info": {
   "codemirror_mode": {
    "name": "ipython",
    "version": 3
   },
   "file_extension": ".py",
   "mimetype": "text/x-python",
   "name": "python",
   "nbconvert_exporter": "python",
   "pygments_lexer": "ipython3",
   "version": "3.10.8"
  }
 },
 "nbformat": 4,
 "nbformat_minor": 5
}
